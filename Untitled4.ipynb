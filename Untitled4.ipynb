{
 "cells": [
  {
   "cell_type": "code",
   "execution_count": 1,
   "id": "ad5dac3c-6912-44e3-bf2e-fcbde3697794",
   "metadata": {},
   "outputs": [],
   "source": [
    "import pandas as pd\n",
    "import numpy as np\n",
    "from sklearn.impute import SimpleImputer\n",
    "from sklearn.preprocessing import StandardScaler\n",
    "from sklearn.model_selection import cross_val_score, KFold\n",
    "from sklearn.neighbors import KNeighborsClassifier\n",
    "from sklearn.tree import DecisionTreeClassifier"
   ]
  },
  {
   "cell_type": "code",
   "execution_count": 2,
   "id": "292acfbe-3125-4679-967e-3dcbe11bbfcc",
   "metadata": {},
   "outputs": [
    {
     "name": "stdout",
     "output_type": "stream",
     "text": [
      "   Pregnancies  Glucose  BloodPressure  SkinThickness  Insulin   BMI  \\\n",
      "0            6      148             72             35        0  33.6   \n",
      "1            1       85             66             29        0  26.6   \n",
      "2            8      183             64              0        0  23.3   \n",
      "3            1       89             66             23       94  28.1   \n",
      "4            0      137             40             35      168  43.1   \n",
      "\n",
      "   DiabetesPedigreeFunction  Age  Outcome  \n",
      "0                     0.627   50        1  \n",
      "1                     0.351   31        0  \n",
      "2                     0.672   32        1  \n",
      "3                     0.167   21        0  \n",
      "4                     2.288   33        1  \n",
      "(768, 9)\n"
     ]
    }
   ],
   "source": [
    "\n",
    "# Read the uploaded CSV file\n",
    "data = pd.read_csv('diabetes (1).csv')\n",
    "\n",
    "# Verify the data was loaded correctly\n",
    "print(data.head())\n",
    "print(data.shape)"
   ]
  },
  {
   "cell_type": "code",
   "execution_count": 3,
   "id": "f82b6799-e24e-4c3a-b4ec-d19c30a7546c",
   "metadata": {},
   "outputs": [
    {
     "name": "stdout",
     "output_type": "stream",
     "text": [
      "<class 'pandas.core.frame.DataFrame'>\n",
      "RangeIndex: 768 entries, 0 to 767\n",
      "Data columns (total 9 columns):\n",
      " #   Column                    Non-Null Count  Dtype  \n",
      "---  ------                    --------------  -----  \n",
      " 0   Pregnancies               768 non-null    int64  \n",
      " 1   Glucose                   768 non-null    int64  \n",
      " 2   BloodPressure             768 non-null    int64  \n",
      " 3   SkinThickness             768 non-null    int64  \n",
      " 4   Insulin                   768 non-null    int64  \n",
      " 5   BMI                       768 non-null    float64\n",
      " 6   DiabetesPedigreeFunction  768 non-null    float64\n",
      " 7   Age                       768 non-null    int64  \n",
      " 8   Outcome                   768 non-null    int64  \n",
      "dtypes: float64(2), int64(7)\n",
      "memory usage: 54.1 KB\n",
      "None\n",
      "       Pregnancies     Glucose  BloodPressure  SkinThickness     Insulin  \\\n",
      "count   768.000000  768.000000     768.000000     768.000000  768.000000   \n",
      "mean      3.845052  120.894531      69.105469      20.536458   79.799479   \n",
      "std       3.369578   31.972618      19.355807      15.952218  115.244002   \n",
      "min       0.000000    0.000000       0.000000       0.000000    0.000000   \n",
      "25%       1.000000   99.000000      62.000000       0.000000    0.000000   \n",
      "50%       3.000000  117.000000      72.000000      23.000000   30.500000   \n",
      "75%       6.000000  140.250000      80.000000      32.000000  127.250000   \n",
      "max      17.000000  199.000000     122.000000      99.000000  846.000000   \n",
      "\n",
      "              BMI  DiabetesPedigreeFunction         Age     Outcome  \n",
      "count  768.000000                768.000000  768.000000  768.000000  \n",
      "mean    31.992578                  0.471876   33.240885    0.348958  \n",
      "std      7.884160                  0.331329   11.760232    0.476951  \n",
      "min      0.000000                  0.078000   21.000000    0.000000  \n",
      "25%     27.300000                  0.243750   24.000000    0.000000  \n",
      "50%     32.000000                  0.372500   29.000000    0.000000  \n",
      "75%     36.600000                  0.626250   41.000000    1.000000  \n",
      "max     67.100000                  2.420000   81.000000    1.000000  \n",
      "   Pregnancies  Glucose  BloodPressure  SkinThickness  Insulin   BMI  \\\n",
      "0            6      148             72             35        0  33.6   \n",
      "1            1       85             66             29        0  26.6   \n",
      "2            8      183             64              0        0  23.3   \n",
      "3            1       89             66             23       94  28.1   \n",
      "4            0      137             40             35      168  43.1   \n",
      "\n",
      "   DiabetesPedigreeFunction  Age  Outcome  \n",
      "0                     0.627   50        1  \n",
      "1                     0.351   31        0  \n",
      "2                     0.672   32        1  \n",
      "3                     0.167   21        0  \n",
      "4                     2.288   33        1  \n"
     ]
    }
   ],
   "source": [
    "# Inspect the data\n",
    "print(data.info())\n",
    "print(data.describe())\n",
    "print(data.head())"
   ]
  },
  {
   "cell_type": "code",
   "execution_count": 4,
   "id": "90362c6f-d665-4dbb-8bce-1fc091dab30c",
   "metadata": {},
   "outputs": [
    {
     "name": "stdout",
     "output_type": "stream",
     "text": [
      "Pregnancies                 0\n",
      "Glucose                     0\n",
      "BloodPressure               0\n",
      "SkinThickness               0\n",
      "Insulin                     0\n",
      "BMI                         0\n",
      "DiabetesPedigreeFunction    0\n",
      "Age                         0\n",
      "Outcome                     0\n",
      "dtype: int64\n"
     ]
    }
   ],
   "source": [
    "# Check for missing values\n",
    "print(data.isnull().sum())\n"
   ]
  },
  {
   "cell_type": "code",
   "execution_count": 5,
   "id": "14c10e70-34d3-46b2-a841-edb4e6de656c",
   "metadata": {},
   "outputs": [
    {
     "name": "stdout",
     "output_type": "stream",
     "text": [
      "   Pregnancies  Glucose  BloodPressure  SkinThickness  Insulin   BMI  \\\n",
      "0            6      148             72             35        0  33.6   \n",
      "1            1       85             66             29        0  26.6   \n",
      "2            8      183             64              0        0  23.3   \n",
      "3            1       89             66             23       94  28.1   \n",
      "4            0      137             40             35      168  43.1   \n",
      "\n",
      "   DiabetesPedigreeFunction  Age  Outcome  \n",
      "0                     0.627   50        1  \n",
      "1                     0.351   31        0  \n",
      "2                     0.672   32        1  \n",
      "3                     0.167   21        0  \n",
      "4                     2.288   33        1  \n"
     ]
    }
   ],
   "source": [
    "data = pd.read_csv('diabetes (1).csv') \n",
    "\n",
    "# Display the first few rows to verify data loading\n",
    "print(data.head())"
   ]
  },
  {
   "cell_type": "code",
   "execution_count": 6,
   "id": "fce6769b-6836-4747-82e8-b5525faba7dd",
   "metadata": {},
   "outputs": [],
   "source": [
    "# Identify columns with potentially invalid zeros\n",
    "# Adjust this list based on your dataset\n",
    "cols_with_zeros = ['Glucose', 'BloodPressure', 'SkinThickness', 'Insulin', 'BMI']\n"
   ]
  },
  {
   "cell_type": "code",
   "execution_count": 7,
   "id": "6e9c0287-beb8-443a-9731-da2d18762f53",
   "metadata": {},
   "outputs": [],
   "source": [
    "# Replace zeros with NaN in the identified columns\n",
    "data[cols_with_zeros] = data[cols_with_zeros].replace({0: np.nan})\n"
   ]
  },
  {
   "cell_type": "code",
   "execution_count": 8,
   "id": "45ed28b2-e88e-45f2-be97-064092b37bc7",
   "metadata": {},
   "outputs": [],
   "source": [
    "# Impute missing values with mean\n",
    "imputer = SimpleImputer(strategy='mean')\n",
    "data_imputed = pd.DataFrame(imputer.fit_transform(data), columns=data.columns)\n"
   ]
  },
  {
   "cell_type": "code",
   "execution_count": 9,
   "id": "66282a39-d1e0-445d-b8a3-e50e1b4778be",
   "metadata": {},
   "outputs": [],
   "source": [
    "# Scale the features\n",
    "scaler = StandardScaler()\n",
    "data_scaled = pd.DataFrame(scaler.fit_transform(data_imputed), columns=data_imputed.columns)\n"
   ]
  },
  {
   "cell_type": "code",
   "execution_count": 10,
   "id": "4b0ad4f7-39bd-496e-a58f-d3b46c364348",
   "metadata": {},
   "outputs": [],
   "source": [
    "# Prepare data for modeling\n",
    "X = data_scaled.drop('Outcome', axis=1)\n",
    "y = data_scaled['Outcome']\n"
   ]
  },
  {
   "cell_type": "code",
   "execution_count": 11,
   "id": "ceffaa65-8a52-4922-a04b-7a0675b16899",
   "metadata": {},
   "outputs": [],
   "source": [
    "\n",
    "# Replace 'column 4' with the actual name of the column in your DataFrame\n",
    "cols = ['SkinThickness']  \n",
    "data[cols] = data[cols].replace({0:np.nan})"
   ]
  },
  {
   "cell_type": "code",
   "execution_count": 12,
   "id": "9f81bf12-14b9-48fd-a201-b256c1db19ea",
   "metadata": {},
   "outputs": [
    {
     "name": "stdout",
     "output_type": "stream",
     "text": [
      "   A   B    X     Y\n",
      "0  1   0  1.0  10.0\n",
      "1  2   7  NaN  20.0\n",
      "2  3   8  3.0   NaN\n",
      "3  0   9  NaN  40.0\n",
      "4  5  10  5.0   NaN\n"
     ]
    }
   ],
   "source": [
    "import pandas as pd\n",
    "import numpy as np\n",
    "\n",
    "# Sample DataFrame (replace with your actual data)\n",
    "data = pd.DataFrame({\n",
    "    'A': [1, 2, 3, 0, 5],\n",
    "    'B': [0, 7, 8, 9, 10],\n",
    "    'X': [1, 0, 3, 0, 5],  # Column with invalid zeros\n",
    "    'Y': [10, 20, 0, 40, 0]  # Column with invalid zeros\n",
    "    # ... other columns ...\n",
    "})\n",
    "\n",
    "# Identify columns with invalid zeros (replace 'X' and 'Y' with actual column names)\n",
    "cols_with_zeros = ['X', 'Y']\n",
    "\n",
    "# Replace zeros with NaN in the identified columns\n",
    "data[cols_with_zeros] = data[cols_with_zeros].replace({0: np.nan})\n",
    "\n",
    "print(data)"
   ]
  },
  {
   "cell_type": "code",
   "execution_count": 13,
   "id": "2bc3f254-3306-4e8c-9d7c-fbe6d030722f",
   "metadata": {},
   "outputs": [
    {
     "name": "stdout",
     "output_type": "stream",
     "text": [
      "   A   B    X     Y\n",
      "0  1   0  1.0  10.0\n",
      "1  2   7  NaN  20.0\n",
      "2  3   8  3.0   NaN\n",
      "3  0   9  NaN  40.0\n",
      "4  5  10  5.0   NaN\n"
     ]
    }
   ],
   "source": [
    "print(data)"
   ]
  },
  {
   "cell_type": "code",
   "execution_count": 14,
   "id": "b22fd5cb-94ab-4c94-96f2-58f81b08b6cd",
   "metadata": {},
   "outputs": [
    {
     "name": "stdout",
     "output_type": "stream",
     "text": [
      "A    0\n",
      "B    0\n",
      "X    2\n",
      "Y    2\n",
      "dtype: int64\n"
     ]
    }
   ],
   "source": [
    "print(data.isna().sum())"
   ]
  },
  {
   "cell_type": "code",
   "execution_count": 15,
   "id": "d317f27c-c2bd-4488-b36c-7f55a10bf1e1",
   "metadata": {},
   "outputs": [
    {
     "name": "stdout",
     "output_type": "stream",
     "text": [
      "              A          B    X          Y\n",
      "count  5.000000   5.000000  3.0   3.000000\n",
      "mean   2.200000   6.800000  3.0  23.333333\n",
      "std    1.923538   3.962323  2.0  15.275252\n",
      "min    0.000000   0.000000  1.0  10.000000\n",
      "25%    1.000000   7.000000  2.0  15.000000\n",
      "50%    2.000000   8.000000  3.0  20.000000\n",
      "75%    3.000000   9.000000  4.0  30.000000\n",
      "max    5.000000  10.000000  5.0  40.000000\n"
     ]
    }
   ],
   "source": [
    "print(data.describe())"
   ]
  },
  {
   "cell_type": "code",
   "execution_count": 16,
   "id": "08fea6c1-fd89-44f9-9350-dac3e290a503",
   "metadata": {},
   "outputs": [
    {
     "name": "stdout",
     "output_type": "stream",
     "text": [
      "KNN mean accuracy: 0.7409048467871997\n",
      "KNN standard deviation: 0.012192067320278584\n"
     ]
    }
   ],
   "source": [
    "# Prepare data for modeling\n",
    "X = data_scaled.drop('Outcome', axis=1)\n",
    "\n",
    "# Convert the 'Outcome' column to integers (assuming it represents categories)\n",
    "y = data_scaled['Outcome'].astype(int) \n",
    "\n",
    "# Set up k-fold cross validation\n",
    "kf = KFold(n_splits=5, shuffle=True, random_state=42)\n",
    "\n",
    "# KNN\n",
    "knn = KNeighborsClassifier()\n",
    "knn_scores = cross_val_score(knn, X, y, cv=kf)\n",
    "print(\"KNN mean accuracy:\", knn_scores.mean())\n",
    "print(\"KNN standard deviation:\", knn_scores.std())"
   ]
  },
  {
   "cell_type": "code",
   "execution_count": 17,
   "id": "ff1d604e-66ba-4aa3-8633-257b6bcb13c6",
   "metadata": {},
   "outputs": [
    {
     "name": "stdout",
     "output_type": "stream",
     "text": [
      "Decision Tree mean accuracy: 0.7278584160937103\n",
      "Decision Tree standard deviation: 0.023863915052930666\n"
     ]
    }
   ],
   "source": [
    "# Decision Tree\n",
    "dt = DecisionTreeClassifier(random_state=42)\n",
    "dt_scores = cross_val_score(dt, X, y, cv=kf)\n",
    "print(\"Decision Tree mean accuracy:\", dt_scores.mean())\n",
    "print(\"Decision Tree standard deviation:\", dt_scores.std())\n"
   ]
  },
  {
   "cell_type": "code",
   "execution_count": null,
   "id": "44a5595a-1e55-4f36-95db-8fff1d61c124",
   "metadata": {},
   "outputs": [],
   "source": []
  }
 ],
 "metadata": {
  "kernelspec": {
   "display_name": "Python 3 (ipykernel)",
   "language": "python",
   "name": "python3"
  },
  "language_info": {
   "codemirror_mode": {
    "name": "ipython",
    "version": 3
   },
   "file_extension": ".py",
   "mimetype": "text/x-python",
   "name": "python",
   "nbconvert_exporter": "python",
   "pygments_lexer": "ipython3",
   "version": "3.11.7"
  }
 },
 "nbformat": 4,
 "nbformat_minor": 5
}
